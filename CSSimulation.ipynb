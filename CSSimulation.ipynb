{
 "metadata": {
  "name": ""
 },
 "nbformat": 3,
 "nbformat_minor": 0,
 "worksheets": [
  {
   "cells": [
    {
     "cell_type": "markdown",
     "metadata": {},
     "source": [
      "#Course Signals Retention Simulation\n",
      "### <i>Can we improve retention rates by giving students chocolates?<i>\n",
      "######Alfred Essa, Oct 12, 2013"
     ]
    },
    {
     "cell_type": "heading",
     "level": 2,
     "metadata": {},
     "source": [
      "0: Introduction"
     ]
    },
    {
     "cell_type": "heading",
     "level": 3,
     "metadata": {},
     "source": [
      "0.1 Background"
     ]
    },
    {
     "cell_type": "markdown",
     "metadata": {},
     "source": [
      "\n",
      "<b>Summary:</b> Course Signals is an early-warning alert system for identifying at-risk students developed at Purdue University and made available commercially by Ellucian. It has been claimed that use of Course Signals \"boosts\" graduation rate by 20+ percent. This simulation is intended to demonstrate that the connection is suspect. The causality is in fact the reverse of what is claimed. In other words, students who take Course Signals courses are <b>not more likely</b> to graduate than non-Course Signals students (at least directly and at the rates suggested), rather students who graduate are more likely to take two or more Course Signals courses. \n",
      "\n"
     ]
    },
    {
     "cell_type": "markdown",
     "metadata": {},
     "source": [
      "<b>Approach:</b> The simulation is based on a model which tracks a cohort of students over four years. We begin with a sample cohort (e.g. 10,000) who enter the university as freshmen. A randomly chosen subset of the students (e.g. 20%) each year take courses where they are given chocolates. This is the analog of taking Course Signals courses. Each year a radomly chosen subset of students (e.g. 10%) drop out of the institution. The base parameters of the model (e.g. cohort size, percentage of chocolate dispensing courses, drop out rate) can be changed by the user. The model tracks chocolates dispensed and compares retention rates between students who received no chocolates, students who received at least one chocolate, and students who received more than two chocolates. The simulation demonstrates that students who receive two or more chocolates consistently have significantly higher retention rates than students who received no chocolates. From the simulation data it would be erroneous, therefore, to conclude that we can significantly improve retention rates by merely giving more chocolates to students. The simulation data illustrates that students who graduate are more likely to receive more chocolates, and not the reverse. "
     ]
    },
    {
     "cell_type": "markdown",
     "metadata": {},
     "source": [
      "<b>Comment:</b> The simulation, and the model upon which it is based, has not been verified and, therefore, the assumptions, the code, and the conclusions might be erroneous. The code is made available in the form of an iPython notebook for review and criticism. It should also be noted the simulation is not intended as a general criticism of the Course Signals software, which was ground breaking in learning analytics. No doubt Course Signals has many benefits. The simulation is offered as a test of the claim that Course Signals <i>directly</i> leads to <i>significant</i> gains in retention. Credit: Mike Caulfield deserves credit for first calling attention to problems with the retention claim."
     ]
    },
    {
     "cell_type": "heading",
     "level": 3,
     "metadata": {},
     "source": [
      "0.2 Course Signals Claims (Sample)"
     ]
    },
    {
     "cell_type": "code",
     "collapsed": false,
     "input": [
      "from IPython.display import HTML\n",
      "HTML('<iframe src=http://www.purdue.edu/newsroom/releases/2013/Q3/purdue-software-boosts-graduation-rate-21-percent-by-data-mining-academic-behviors.html?useformat=mobile width=700 height=350    ></iframe>')"
     ],
     "language": "python",
     "metadata": {},
     "outputs": []
    },
    {
     "cell_type": "heading",
     "level": 2,
     "metadata": {},
     "source": [
      "1: Preliminaries"
     ]
    },
    {
     "cell_type": "heading",
     "level": 4,
     "metadata": {},
     "source": [
      "1.1 Import Python and Pandas"
     ]
    },
    {
     "cell_type": "code",
     "collapsed": false,
     "input": [
      "import pandas as pd\n",
      "from random import randint"
     ],
     "language": "python",
     "metadata": {},
     "outputs": [],
     "prompt_number": 37
    },
    {
     "cell_type": "heading",
     "level": 4,
     "metadata": {},
     "source": [
      "1.2 Define Model Parameters"
     ]
    },
    {
     "cell_type": "code",
     "collapsed": false,
     "input": [
      "# define base parameters of the model\n",
      "cohort = 10000\n",
      "course_size = 25\n",
      "course_avg = 5\n",
      "class_size = [9500,9200,9000,8800]\n",
      "\n",
      "# calculate derived parameters\n",
      "course_seats = cohort * course_avg\n",
      "courses = int(course_seats/course_size)\n",
      "choc_course_pctg = .1\n",
      "choc_courses = int(courses * choc_course_pctg)\n",
      "chocs = choc_courses * course_avg\n",
      "\n"
     ],
     "language": "python",
     "metadata": {},
     "outputs": [],
     "prompt_number": 38
    },
    {
     "cell_type": "heading",
     "level": 4,
     "metadata": {},
     "source": [
      "1.3 Create tables for tracking chocolates dispensed and retention rates\n"
     ]
    },
    {
     "cell_type": "code",
     "collapsed": false,
     "input": [
      "# create pandas dataframe (table) for tracking retention rates\n",
      "x = [[0 for i in xrange(8)] for j in xrange(3)]\n",
      "col = ['Y1Tot','Y1Ret','Y2Tot','Y2Ret','Y3Tot','Y3Ret', 'Y4Tot', 'Y4Ret']\n",
      "rows = ['NoChoc', 'AtLstOne', 'TwoOrMore']\n",
      "df = pd.DataFrame(x, index = rows, columns=col)"
     ],
     "language": "python",
     "metadata": {},
     "outputs": [],
     "prompt_number": 39
    },
    {
     "cell_type": "code",
     "collapsed": false,
     "input": [
      "# create pandas dataframe (table) for tracking chocolates earned by each student\n",
      "y = [[0 for i in xrange(5)] for j in xrange(cohort)]\n",
      "col2 =['Class','C1','C2','C3','C4']\n",
      "d = pd.DataFrame(y, columns=col2)\n",
      "d['Class']=1\n"
     ],
     "language": "python",
     "metadata": {},
     "outputs": [],
     "prompt_number": 40
    },
    {
     "cell_type": "code",
     "collapsed": false,
     "input": [
      "d.head()"
     ],
     "language": "python",
     "metadata": {},
     "outputs": [
      {
       "html": [
        "<div style=\"max-height:1000px;max-width:1500px;overflow:auto;\">\n",
        "<table border=\"1\" class=\"dataframe\">\n",
        "  <thead>\n",
        "    <tr style=\"text-align: right;\">\n",
        "      <th></th>\n",
        "      <th>Class</th>\n",
        "      <th>C1</th>\n",
        "      <th>C2</th>\n",
        "      <th>C3</th>\n",
        "      <th>C4</th>\n",
        "    </tr>\n",
        "  </thead>\n",
        "  <tbody>\n",
        "    <tr>\n",
        "      <th>0</th>\n",
        "      <td> 1</td>\n",
        "      <td> 0</td>\n",
        "      <td> 0</td>\n",
        "      <td> 0</td>\n",
        "      <td> 0</td>\n",
        "    </tr>\n",
        "    <tr>\n",
        "      <th>1</th>\n",
        "      <td> 1</td>\n",
        "      <td> 0</td>\n",
        "      <td> 0</td>\n",
        "      <td> 0</td>\n",
        "      <td> 0</td>\n",
        "    </tr>\n",
        "    <tr>\n",
        "      <th>2</th>\n",
        "      <td> 1</td>\n",
        "      <td> 0</td>\n",
        "      <td> 0</td>\n",
        "      <td> 0</td>\n",
        "      <td> 0</td>\n",
        "    </tr>\n",
        "    <tr>\n",
        "      <th>3</th>\n",
        "      <td> 1</td>\n",
        "      <td> 0</td>\n",
        "      <td> 0</td>\n",
        "      <td> 0</td>\n",
        "      <td> 0</td>\n",
        "    </tr>\n",
        "    <tr>\n",
        "      <th>4</th>\n",
        "      <td> 1</td>\n",
        "      <td> 0</td>\n",
        "      <td> 0</td>\n",
        "      <td> 0</td>\n",
        "      <td> 0</td>\n",
        "    </tr>\n",
        "  </tbody>\n",
        "</table>\n",
        "</div>"
       ],
       "output_type": "pyout",
       "prompt_number": 41,
       "text": [
        "   Class  C1  C2  C3  C4\n",
        "0      1   0   0   0   0\n",
        "1      1   0   0   0   0\n",
        "2      1   0   0   0   0\n",
        "3      1   0   0   0   0\n",
        "4      1   0   0   0   0"
       ]
      }
     ],
     "prompt_number": 41
    },
    {
     "cell_type": "heading",
     "level": 4,
     "metadata": {},
     "source": [
      "1.3 Define Helper Functions"
     ]
    },
    {
     "cell_type": "code",
     "collapsed": false,
     "input": [
      "def calc_totals():\n",
      "    d['Total']=d['C1']+d['C2']+d['C3']+d['C4']"
     ],
     "language": "python",
     "metadata": {},
     "outputs": [],
     "prompt_number": 42
    },
    {
     "cell_type": "code",
     "collapsed": false,
     "input": [
      "def class_totals():\n",
      "    print \"freshman: \", len(d[d['Class']==1])\n",
      "    print \"sophomore: \", len(d[d['Class']==2])\n",
      "    print \"junior: \", len(d[d['Class']==3])\n",
      "    print \"senior: \", len(d[d['Class']==4])\n",
      "    print \"graduates: \", len(d[d['Class']==5])\n",
      "    "
     ],
     "language": "python",
     "metadata": {},
     "outputs": [],
     "prompt_number": 43
    },
    {
     "cell_type": "code",
     "collapsed": false,
     "input": [
      "def chocs_dispensed():\n",
      "    print \"total chocolates dispensed: \", d['Total'].sum()"
     ],
     "language": "python",
     "metadata": {},
     "outputs": [],
     "prompt_number": 44
    },
    {
     "cell_type": "code",
     "collapsed": false,
     "input": [
      "def choc_totals():\n",
      "    print \"students with zero chocs: \", len(d[d['Total']==0])\n",
      "    print \"students with one or more chocs: \", len(d[d['Total']>=1])\n",
      "    print \"students with two or more chocs: \", len(d[d['Total']>=2])"
     ],
     "language": "python",
     "metadata": {},
     "outputs": [],
     "prompt_number": 45
    },
    {
     "cell_type": "code",
     "collapsed": false,
     "input": [
      "def choc_table(n):\n",
      "    df.ix[0,n]=len(d[d['Total']==0])\n",
      "    df.ix[1,n]=len(d[d['Total']>=1])\n",
      "    df.ix[2,n]=len(d[d['Total']>=2])\n",
      "    \n",
      "    "
     ],
     "language": "python",
     "metadata": {},
     "outputs": [],
     "prompt_number": 46
    },
    {
     "cell_type": "code",
     "collapsed": false,
     "input": [
      "def retention_totals(cl,c2):\n",
      "    c3 = ['Y1Ret','Y2Ret','Y3Ret', 'Y4Ret']\n",
      "    s_ret_zero = len(d[(d['Class']==cl) & (d['Total']==0)])\n",
      "    s_ret_atlstone = len(d[(d['Class']==cl) & (d['Total']>=1)])\n",
      "    s_ret_twoormore = len(d[(d['Class']==cl) & (d['Total']>=2)])\n",
      "    df.ix[0,c2] = s_ret_zero\n",
      "    df.ix[1,c2] = s_ret_atlstone\n",
      "    df.ix[2,c2] = s_ret_twoormore\n",
      "    "
     ],
     "language": "python",
     "metadata": {},
     "outputs": [],
     "prompt_number": 47
    },
    {
     "cell_type": "code",
     "collapsed": false,
     "input": [
      "def calc_rates():\n",
      "    df['Y1%']=df['Y1Ret']/df['Y1Tot'].astype(float)\n",
      "    df['Y2%']=df['Y2Ret']/df['Y2Tot'].astype(float)\n",
      "    df['Y3%']=df['Y3Ret']/df['Y3Tot'].astype(float)\n",
      "    df['Y4%']=df['Y4Ret']/df['Y4Tot'].astype(float)"
     ],
     "language": "python",
     "metadata": {},
     "outputs": [],
     "prompt_number": 48
    },
    {
     "cell_type": "code",
     "collapsed": false,
     "input": [
      "def disp_chocolates(yr):\n",
      "    yrcol = ['C1', 'C2', 'C3', 'C4']\n",
      "    for i in xrange(chocs):\n",
      "        r = randint(0,cohort-1)\n",
      "        if yr ==1:\n",
      "            d.ix[r, yrcol[yr-1]]+=1\n",
      "        else:\n",
      "            if d.ix[r,'Class']==yr:\n",
      "                d.ix[r, yrcol[yr-1]]+=1\n",
      "            "
     ],
     "language": "python",
     "metadata": {},
     "outputs": [],
     "prompt_number": 49
    },
    {
     "cell_type": "code",
     "collapsed": false,
     "input": [
      "def drop_students(yr):\n",
      "    i = 0\n",
      "    while i < class_size[yr-1]:\n",
      "        r = randint(0,cohort-1)\n",
      "        if d.ix[r,'Class']==yr:\n",
      "            d.ix[r,'Class']=yr+1\n",
      "            i+=1\n",
      "    \n",
      "    \n",
      "        "
     ],
     "language": "python",
     "metadata": {},
     "outputs": [],
     "prompt_number": 50
    },
    {
     "cell_type": "heading",
     "level": 2,
     "metadata": {},
     "source": [
      "2. Run Simulation"
     ]
    },
    {
     "cell_type": "code",
     "collapsed": false,
     "input": [
      "c3 = ['Y1Ret','Y2Ret','Y3Ret', 'Y4Ret']\n",
      "for i in xrange(1,5):\n",
      "    disp_chocolates(i)\n",
      "    drop_students(i)\n",
      "    calc_totals()\n",
      "    choc_table((i-1)*2)\n",
      "    retention_totals(i+1,c3[i-1])\n",
      "calc_rates() \n",
      "    "
     ],
     "language": "python",
     "metadata": {},
     "outputs": [],
     "prompt_number": 51
    },
    {
     "cell_type": "code",
     "collapsed": false,
     "input": [
      "calc_rates()"
     ],
     "language": "python",
     "metadata": {},
     "outputs": [],
     "prompt_number": 52
    },
    {
     "cell_type": "code",
     "collapsed": false,
     "input": [
      "df"
     ],
     "language": "python",
     "metadata": {},
     "outputs": [
      {
       "html": [
        "<div style=\"max-height:1000px;max-width:1500px;overflow:auto;\">\n",
        "<table border=\"1\" class=\"dataframe\">\n",
        "  <thead>\n",
        "    <tr style=\"text-align: right;\">\n",
        "      <th></th>\n",
        "      <th>Y1Tot</th>\n",
        "      <th>Y1Ret</th>\n",
        "      <th>Y2Tot</th>\n",
        "      <th>Y2Ret</th>\n",
        "      <th>Y3Tot</th>\n",
        "      <th>Y3Ret</th>\n",
        "      <th>Y4Tot</th>\n",
        "      <th>Y4Ret</th>\n",
        "      <th>Y1%</th>\n",
        "      <th>Y2%</th>\n",
        "      <th>Y3%</th>\n",
        "      <th>Y4%</th>\n",
        "    </tr>\n",
        "  </thead>\n",
        "  <tbody>\n",
        "    <tr>\n",
        "      <th>NoChoc</th>\n",
        "      <td> 9051</td>\n",
        "      <td> 8609</td>\n",
        "      <td> 8242</td>\n",
        "      <td> 7553</td>\n",
        "      <td> 7520</td>\n",
        "      <td> 6688</td>\n",
        "      <td> 6885</td>\n",
        "      <td> 5918</td>\n",
        "      <td> 0.951166</td>\n",
        "      <td> 0.916404</td>\n",
        "      <td> 0.889362</td>\n",
        "      <td> 0.859550</td>\n",
        "    </tr>\n",
        "    <tr>\n",
        "      <th>AtLstOne</th>\n",
        "      <td>  949</td>\n",
        "      <td>  891</td>\n",
        "      <td> 1758</td>\n",
        "      <td> 1647</td>\n",
        "      <td> 2480</td>\n",
        "      <td> 2312</td>\n",
        "      <td> 3115</td>\n",
        "      <td> 2882</td>\n",
        "      <td> 0.938883</td>\n",
        "      <td> 0.936860</td>\n",
        "      <td> 0.932258</td>\n",
        "      <td> 0.925201</td>\n",
        "    </tr>\n",
        "    <tr>\n",
        "      <th>TwoOrMore</th>\n",
        "      <td>   49</td>\n",
        "      <td>   47</td>\n",
        "      <td>  173</td>\n",
        "      <td>  166</td>\n",
        "      <td>  348</td>\n",
        "      <td>  336</td>\n",
        "      <td>  569</td>\n",
        "      <td>  544</td>\n",
        "      <td> 0.959184</td>\n",
        "      <td> 0.959538</td>\n",
        "      <td> 0.965517</td>\n",
        "      <td> 0.956063</td>\n",
        "    </tr>\n",
        "  </tbody>\n",
        "</table>\n",
        "</div>"
       ],
       "output_type": "pyout",
       "prompt_number": 53,
       "text": [
        "           Y1Tot  Y1Ret  Y2Tot  Y2Ret  Y3Tot  Y3Ret  Y4Tot  Y4Ret       Y1%  \\\n",
        "NoChoc      9051   8609   8242   7553   7520   6688   6885   5918  0.951166   \n",
        "AtLstOne     949    891   1758   1647   2480   2312   3115   2882  0.938883   \n",
        "TwoOrMore     49     47    173    166    348    336    569    544  0.959184   \n",
        "\n",
        "                Y2%       Y3%       Y4%  \n",
        "NoChoc     0.916404  0.889362  0.859550  \n",
        "AtLstOne   0.936860  0.932258  0.925201  \n",
        "TwoOrMore  0.959538  0.965517  0.956063  "
       ]
      }
     ],
     "prompt_number": 53
    },
    {
     "cell_type": "code",
     "collapsed": false,
     "input": [],
     "language": "python",
     "metadata": {},
     "outputs": []
    },
    {
     "cell_type": "code",
     "collapsed": false,
     "input": [],
     "language": "python",
     "metadata": {},
     "outputs": []
    }
   ],
   "metadata": {}
  }
 ]
}